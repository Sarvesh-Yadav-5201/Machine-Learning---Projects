{
 "cells": [
  {
   "cell_type": "markdown",
   "metadata": {},
   "source": [
    "# CONVOLUTION NEURAL NETWORK \n",
    "\n",
    "* Problem Statement: \n",
    "Classify Photoes of Cats and Dogs Using Neural Network"
   ]
  },
  {
   "cell_type": "code",
   "execution_count": 1,
   "metadata": {},
   "outputs": [],
   "source": [
    "# Importing Required Packages / Modules \n",
    "import numpy as np\n",
    "import pandas as pd\n",
    "\n",
    "#   In this example we are working with 2D photographs \n",
    "\n",
    "# Importing keras packages \n",
    "from keras.models import Sequential\n",
    "from keras.layers import Conv2D, MaxPool2D, Flatten, Dense\n"
   ]
  },
  {
   "cell_type": "markdown",
   "metadata": {},
   "source": [
    "# Initializing The CNN "
   ]
  },
  {
   "cell_type": "code",
   "execution_count": 6,
   "metadata": {},
   "outputs": [],
   "source": [
    "# Setting up our CNN \n",
    "# Initializing CNN \n",
    "cls = Sequential()\n",
    "\n",
    "# Convolution \n",
    "cls.add(Conv2D(32,(3,3), activation= 'relu', input_shape = (64,64,3)))  # Input_shape must matches the comming in. Conv2D (Conversion 2D\n",
    "\n",
    "# Pooling \n",
    "cls.add(MaxPool2D(pool_size= (2,2)))\n",
    "\n",
    "# Adding a second Convolution Layer   # THESE ARE HIDDEN LAYER \n",
    "cls.add(Conv2D(32,(3,3), activation= 'relu', input_shape = (64,64)))\n",
    "\n",
    "cls.add(MaxPool2D(pool_size=(2,2)))\n",
    "\n",
    "# Flatteing \n",
    "cls.add(Flatten())  # Converts whole 2D array into 1D array / Vector\n",
    "\n",
    "# FUll connection   # These are final Two Layers \n",
    "cls.add(Dense(units= 128, activation= 'relu'))\n",
    "cls.add(Dense(units= 1, activation= 'sigmoid')) # Filtering evryhting into single output layer. \n",
    "\n",
    "# Compiling the CNN MODULE \n",
    "cls.compile(optimizer= 'adam', loss = 'binary_crossentropy', metrics = ['accuracy']) "
   ]
  },
  {
   "cell_type": "code",
   "execution_count": 12,
   "metadata": {},
   "outputs": [
    {
     "name": "stdout",
     "output_type": "stream",
     "text": [
      "Found 22422 images belonging to 2 classes.\n",
      "Found 1000 images belonging to 2 classes.\n"
     ]
    }
   ],
   "source": [
    "# Fitting the CNN to the images \n",
    "from keras.preprocessing.image import ImageDataGenerator\n",
    "train_datagen = ImageDataGenerator(rescale = 1./255,\n",
    "                                   shear_range = 0.2,\n",
    "                                   zoom_range = 0.2,\n",
    "                                   horizontal_flip = True)\n",
    "test_datagen = ImageDataGenerator(rescale = 1./255)\n",
    "\n",
    "training_set = train_datagen.flow_from_directory('Pets/training_set',\n",
    "                                                 target_size = (64,64),\n",
    "                                                 batch_size = 32,\n",
    "                                                 class_mode = 'binary')\n",
    "\n",
    "test_set = test_datagen.flow_from_directory('Pets/test_set',\n",
    "                                            target_size = (64,64),\n",
    "                                            batch_size = 32,\n",
    "                                            class_mode = 'binary')"
   ]
  },
  {
   "cell_type": "code",
   "execution_count": 18,
   "metadata": {},
   "outputs": [
    {
     "name": "stdout",
     "output_type": "stream",
     "text": [
      "Epoch 1/10\n",
      "700/700 [==============================] - 132s 188ms/step - loss: 0.5562 - accuracy: 0.7188 - val_loss: 0.5220 - val_accuracy: 0.7469\n",
      "Epoch 2/10\n",
      "700/700 [==============================] - 132s 188ms/step - loss: 0.5393 - accuracy: 0.7331 - val_loss: 0.5681 - val_accuracy: 0.6812\n",
      "Epoch 3/10\n",
      "700/700 [==============================] - 132s 188ms/step - loss: 0.5146 - accuracy: 0.7448 - val_loss: 0.5358 - val_accuracy: 0.7188\n",
      "Epoch 4/10\n",
      "700/700 [==============================] - 142s 203ms/step - loss: 0.5075 - accuracy: 0.7531 - val_loss: 0.5112 - val_accuracy: 0.7656\n",
      "Epoch 5/10\n",
      "700/700 [==============================] - 138s 198ms/step - loss: 0.4929 - accuracy: 0.7594 - val_loss: 0.4966 - val_accuracy: 0.7656\n",
      "Epoch 6/10\n",
      "700/700 [==============================] - 130s 185ms/step - loss: 0.4842 - accuracy: 0.7661 - val_loss: 0.5748 - val_accuracy: 0.6875\n",
      "Epoch 7/10\n",
      "700/700 [==============================] - 132s 189ms/step - loss: 0.4773 - accuracy: 0.7736 - val_loss: 0.4504 - val_accuracy: 0.7969\n",
      "Epoch 8/10\n",
      "700/700 [==============================] - 131s 187ms/step - loss: 0.4682 - accuracy: 0.7746 - val_loss: 0.4486 - val_accuracy: 0.7937\n",
      "Epoch 9/10\n",
      "700/700 [==============================] - 131s 187ms/step - loss: 0.4555 - accuracy: 0.7836 - val_loss: 0.4586 - val_accuracy: 0.7844\n",
      "Epoch 10/10\n",
      "700/700 [==============================] - 130s 186ms/step - loss: 0.4476 - accuracy: 0.7880 - val_loss: 0.4997 - val_accuracy: 0.7781\n"
     ]
    },
    {
     "data": {
      "text/plain": [
       "<keras.callbacks.History at 0x28777267d60>"
      ]
     },
     "execution_count": 18,
     "metadata": {},
     "output_type": "execute_result"
    }
   ],
   "source": [
    "# Training The MOdel\n",
    "cls.fit(training_set, steps_per_epoch=700, epochs= 10, validation_data= test_set, validation_steps= 10)"
   ]
  },
  {
   "cell_type": "code",
   "execution_count": 26,
   "metadata": {},
   "outputs": [
    {
     "name": "stdout",
     "output_type": "stream",
     "text": [
      "Dog\n"
     ]
    }
   ],
   "source": [
    "# Making A Random Prediction : \n",
    "\n",
    "import numpy as np \n",
    "\n",
    "from keras.preprocessing import image\n",
    "test_image = image.load_img('Pets/Single_Image/Test5.jpg', target_size= (64,64))\n",
    "test_image = image.img_to_array(test_image)\n",
    "test_image = np.expand_dims(test_image, axis = 0)\n",
    "\n",
    "# Getting Predicted Result for the random image: \n",
    "result = cls.predict(test_image)\n",
    "\n",
    "if result[0][0]== 1:\n",
    "    prediction = \"Dog\"\n",
    "\n",
    "else:\n",
    "    prediction = 'Cat'\n",
    "\n",
    "\n",
    "print (prediction)"
   ]
  },
  {
   "cell_type": "markdown",
   "metadata": {},
   "source": [
    "# So we have Successfully built a neural network that can Distinguish Between Photos of a Cat and a Dog"
   ]
  },
  {
   "cell_type": "code",
   "execution_count": null,
   "metadata": {},
   "outputs": [],
   "source": []
  }
 ],
 "metadata": {
  "kernelspec": {
   "display_name": "Python 3.10.5 64-bit (windows store)",
   "language": "python",
   "name": "python3"
  },
  "language_info": {
   "codemirror_mode": {
    "name": "ipython",
    "version": 3
   },
   "file_extension": ".py",
   "mimetype": "text/x-python",
   "name": "python",
   "nbconvert_exporter": "python",
   "pygments_lexer": "ipython3",
   "version": "3.10.5"
  },
  "orig_nbformat": 4,
  "vscode": {
   "interpreter": {
    "hash": "61ceb1c49787644872bc03ea892a74836f7ed5e196ebee814ca895604c885569"
   }
  }
 },
 "nbformat": 4,
 "nbformat_minor": 2
}
