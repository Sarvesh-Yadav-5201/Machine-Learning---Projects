{
 "cells": [
  {
   "cell_type": "markdown",
   "metadata": {},
   "source": [
    "# IMPIMENTING TENSORFLOW \n",
    "Use Case: \n",
    "Building Neural Network to identify the hand written digits using MNIST Database using SOFTMAX Activation Function. "
   ]
  },
  {
   "cell_type": "markdown",
   "metadata": {},
   "source": [
    "* Importing all necessary modules"
   ]
  },
  {
   "cell_type": "code",
   "execution_count": 1,
   "metadata": {},
   "outputs": [],
   "source": [
    "import numpy as np\n",
    "import pandas as pd\n",
    "import matplotlib.pyplot as plt\n",
    "\n",
    "\n",
    "from tensorflow.keras import Sequential\n",
    "from tensorflow.keras.layers import Conv2D, MaxPool2D,Dense, Flatten, Dropout\n",
    "import tensorflow as tf"
   ]
  },
  {
   "cell_type": "code",
   "execution_count": 2,
   "metadata": {},
   "outputs": [],
   "source": [
    "# Importing MNIST Dataset \n",
    "from tensorflow.keras.datasets import  mnist\n",
    "(x_train, y_train),(x_test, y_test) = mnist.load_data()"
   ]
  },
  {
   "cell_type": "code",
   "execution_count": 3,
   "metadata": {},
   "outputs": [
    {
     "data": {
      "text/plain": [
       "<matplotlib.image.AxesImage at 0x20bf2b73040>"
      ]
     },
     "execution_count": 3,
     "metadata": {},
     "output_type": "execute_result"
    },
    {
     "data": {
      "image/png": "[encoded data removed]",
      "text/plain": [
       "<Figure size 432x288 with 1 Axes>"
      ]
     },
     "metadata": {
      "needs_background": "light"
     },
     "output_type": "display_data"
    }
   ],
   "source": [
    "# Visualizing Mnist Dataset\n",
    "plt.imshow(x_train[0])"
   ]
  },
  {
   "cell_type": "code",
   "execution_count": 4,
   "metadata": {},
   "outputs": [
    {
     "data": {
      "text/plain": [
       "(60000, 28, 28)"
      ]
     },
     "execution_count": 4,
     "metadata": {},
     "output_type": "execute_result"
    }
   ],
   "source": [
    "x_train.shape"
   ]
  },
  {
   "cell_type": "code",
   "execution_count": 5,
   "metadata": {},
   "outputs": [
    {
     "data": {
      "text/plain": [
       "(60000,)"
      ]
     },
     "execution_count": 5,
     "metadata": {},
     "output_type": "execute_result"
    }
   ],
   "source": [
    "y_train.shape"
   ]
  },
  {
   "cell_type": "code",
   "execution_count": 6,
   "metadata": {},
   "outputs": [
    {
     "data": {
      "text/plain": [
       "(10000, 28, 28)"
      ]
     },
     "execution_count": 6,
     "metadata": {},
     "output_type": "execute_result"
    }
   ],
   "source": [
    "x_test.shape"
   ]
  },
  {
   "cell_type": "code",
   "execution_count": 7,
   "metadata": {},
   "outputs": [
    {
     "data": {
      "text/plain": [
       "(10000,)"
      ]
     },
     "execution_count": 7,
     "metadata": {},
     "output_type": "execute_result"
    }
   ],
   "source": [
    "y_test.shape"
   ]
  },
  {
   "cell_type": "code",
   "execution_count": 8,
   "metadata": {},
   "outputs": [
    {
     "data": {
      "text/plain": [
       "255"
      ]
     },
     "execution_count": 8,
     "metadata": {},
     "output_type": "execute_result"
    }
   ],
   "source": [
    "x_train[0].max()\n",
    "# As we can Clearly see that output is quite hugh as we compared it to 1. "
   ]
  },
  {
   "cell_type": "code",
   "execution_count": 9,
   "metadata": {},
   "outputs": [
    {
     "data": {
      "text/plain": [
       "1.0"
      ]
     },
     "execution_count": 9,
     "metadata": {},
     "output_type": "execute_result"
    }
   ],
   "source": [
    "# So we are going to trim that number between 0 and 1\n",
    "x_train = x_train/255.0\n",
    "x_test= x_test/255.0\n",
    "x_train[0].max()"
   ]
  },
  {
   "cell_type": "code",
   "execution_count": 10,
   "metadata": {},
   "outputs": [
    {
     "data": {
      "text/plain": [
       "(28, 28, 1)"
      ]
     },
     "execution_count": 10,
     "metadata": {},
     "output_type": "execute_result"
    }
   ],
   "source": [
    "# Reshaping each andevery image from (28,28) -2D into (28,28,1)-3D \n",
    "x_train = x_train.reshape(60000,28,28,1)\n",
    "x_test = x_test.reshape(10000,28,28,1)\n",
    "# Checking the shape again \n",
    "x_train[0].shape"
   ]
  },
  {
   "cell_type": "code",
   "execution_count": 11,
   "metadata": {},
   "outputs": [],
   "source": [
    "# Building our Neural Network to work with \n",
    "input_shape = x_train[0].shape"
   ]
  },
  {
   "cell_type": "code",
   "execution_count": 12,
   "metadata": {},
   "outputs": [
    {
     "name": "stdout",
     "output_type": "stream",
     "text": [
      "Model: \"sequential\"\n",
      "_________________________________________________________________\n",
      " Layer (type)                Output Shape              Param #   \n",
      "=================================================================\n",
      " conv2d (Conv2D)             (None, 26, 26, 32)        320       \n",
      "                                                                 \n",
      " conv2d_1 (Conv2D)           (None, 24, 24, 64)        18496     \n",
      "                                                                 \n",
      " max_pooling2d (MaxPooling2D  (None, 12, 12, 64)       0         \n",
      " )                                                               \n",
      "                                                                 \n",
      " dropout (Dropout)           (None, 12, 12, 64)        0         \n",
      "                                                                 \n",
      " flatten (Flatten)           (None, 9216)              0         \n",
      "                                                                 \n",
      " dense (Dense)               (None, 128)               1179776   \n",
      "                                                                 \n",
      " dropout_1 (Dropout)         (None, 128)               0         \n",
      "                                                                 \n",
      " dense_1 (Dense)             (None, 10)                1290      \n",
      "                                                                 \n",
      "=================================================================\n",
      "Total params: 1,199,882\n",
      "Trainable params: 1,199,882\n",
      "Non-trainable params: 0\n",
      "_________________________________________________________________\n"
     ]
    }
   ],
   "source": [
    "# Adding 2 layers of Convolution Neural Network\n",
    "model = Sequential()\n",
    "model.add(Conv2D(filters= 32, kernel_size=(3,3), activation= 'relu',input_shape = input_shape))\n",
    "model.add(Conv2D(filters= 64, kernel_size=(3,3), activation= 'relu'))\n",
    "model.add(MaxPool2D(2,2))\n",
    "model.add(Dropout(0.25))\n",
    "\n",
    "# Converting 2D data into a VECTOR\n",
    "model.add(Flatten())\n",
    "model.add(Dense(128, activation= 'relu')) # \"RELU\" is most widely used activation function\n",
    "model.add(Dropout(0.50))\n",
    "\n",
    "# Adding Final Output layer\n",
    "model.add(Dense(10, activation=\"softmax\"))\n",
    "model.summary()"
   ]
  },
  {
   "cell_type": "code",
   "execution_count": 13,
   "metadata": {},
   "outputs": [],
   "source": [
    "# Compiling the while model\n",
    "model.compile(loss= \"sparse_categorical_crossentropy\", optimizer='adam', metrics=['accuracy'])"
   ]
  },
  {
   "cell_type": "markdown",
   "metadata": {},
   "source": [
    "# TRAINING THE MODEL"
   ]
  },
  {
   "cell_type": "code",
   "execution_count": 14,
   "metadata": {},
   "outputs": [
    {
     "name": "stdout",
     "output_type": "stream",
     "text": [
      "Epoch 1/10\n",
      "469/469 [==============================] - 101s 213ms/step - loss: 0.2486 - accuracy: 0.9246 - val_loss: 0.0493 - val_accuracy: 0.9850\n",
      "Epoch 2/10\n",
      "244/469 [==============>...............] - ETA: 48s - loss: 0.0927 - accuracy: 0.9718"
     ]
    }
   ],
   "source": [
    "train = model.fit(x_train,y_train, batch_size= 128, epochs= 10, verbose=1, validation_data= (x_test,y_test))"
   ]
  },
  {
   "cell_type": "code",
   "execution_count": 15,
   "metadata": {},
   "outputs": [
    {
     "name": "stdout",
     "output_type": "stream",
     "text": [
      "313/313 [==============================] - 4s 12ms/step - loss: 0.0455 - accuracy: 0.9855\n"
     ]
    },
    {
     "data": {
      "text/plain": [
       "[0.0454939566552639, 0.9854999780654907]"
      ]
     },
     "execution_count": 15,
     "metadata": {},
     "output_type": "execute_result"
    }
   ],
   "source": [
    "# Evaluating the Model.. \n",
    "model.evaluate(x_test,y_test)"
   ]
  },
  {
   "cell_type": "code",
   "execution_count": 16,
   "metadata": {},
   "outputs": [
    {
     "data": {
      "text/plain": [
       "array([[2.0772900e-08, 1.8356363e-09, 6.7614133e-07, ..., 9.9999106e-01,\n",
       "        6.6962023e-09, 3.1045336e-06],\n",
       "       [7.1665170e-07, 5.4238648e-05, 9.9991798e-01, ..., 3.9729474e-07,\n",
       "        1.9728795e-05, 5.7038368e-10],\n",
       "       [5.2808394e-07, 9.9956077e-01, 3.7547641e-05, ..., 7.3139396e-05,\n",
       "        6.7285735e-05, 5.1919988e-06],\n",
       "       ...,\n",
       "       [1.1719149e-09, 1.9955078e-08, 8.0364035e-09, ..., 3.9677369e-07,\n",
       "        4.9990786e-06, 1.1840528e-04],\n",
       "       [1.6700395e-07, 1.6736442e-07, 5.3335145e-09, ..., 4.9752718e-09,\n",
       "        3.8661182e-04, 3.9093686e-07],\n",
       "       [1.4497748e-06, 3.5748410e-08, 9.6783822e-07, ..., 1.5116733e-10,\n",
       "        3.7370609e-07, 1.5157717e-08]], dtype=float32)"
      ]
     },
     "execution_count": 16,
     "metadata": {},
     "output_type": "execute_result"
    }
   ],
   "source": [
    "model.predict(x= x_test)"
   ]
  },
  {
   "cell_type": "markdown",
   "metadata": {},
   "source": [
    "# WITH THIS TRAINNG MODEL, \n",
    "We are able to achieve The accuracy of  over 99%. \n",
    "\n",
    "And Loss of 0.027. "
   ]
  },
  {
   "cell_type": "markdown",
   "metadata": {},
   "source": [
    "# DRAWING THE LEARNING CURVE FOR THE MODEL"
   ]
  },
  {
   "cell_type": "code",
   "execution_count": null,
   "metadata": {},
   "outputs": [
    {
     "data": {
      "image/png": "[encoded data removed]",
      "text/plain": [
       "<Figure size 432x288 with 1 Axes>"
      ]
     },
     "metadata": {
      "needs_background": "light"
     },
     "output_type": "display_data"
    },
    {
     "data": {
      "image/png": "[encoded data removed]",
      "text/plain": [
       "<Figure size 432x288 with 1 Axes>"
      ]
     },
     "metadata": {
      "needs_background": "light"
     },
     "output_type": "display_data"
    }
   ],
   "source": [
    "def plot_learning_curvee(train, epochs =10):      # default value for epoch is 10\n",
    "    # Plot training and Validation accuracy values\n",
    "\n",
    "    epoch_range = range(1, epochs +1)\n",
    "    plt.plot(epoch_range, train.history['accuracy'])\n",
    "    plt.plot(epoch_range, train.history['val_accuracy'])\n",
    "    plt.title(\"MODEL ACCURACY\")\n",
    "    plt.xlabel(\"EPOCH\")\n",
    "    plt.ylabel(\"ACCURACY\")\n",
    "    plt.legend(['Train', 'Val'], loc = 'upper left')\n",
    "    plt.show()\n",
    "\n",
    "    # Plot training and Validation Loss values\n",
    "    epoch_range = range(1, epochs +1)\n",
    "    plt.plot(epoch_range, train.history['loss'])\n",
    "    plt.plot(epoch_range, train.history['val_loss'])\n",
    "    plt.title(\"MODEL LOSS\")\n",
    "    plt.xlabel(\"EPOCH\")\n",
    "    plt.ylabel(\"LOSS\")\n",
    "    plt.legend(['Train', 'Val'], loc = 'upper left')\n",
    "    plt.show()\n",
    "\n",
    "\n",
    "plot_learning_curvee (train,10)"
   ]
  },
  {
   "cell_type": "code",
   "execution_count": null,
   "metadata": {},
   "outputs": [
    {
     "data": {
      "text/plain": [
       "{'loss': [0.23164041340351105,\n",
       "  0.08429379761219025,\n",
       "  0.06443624198436737,\n",
       "  0.05060657486319542,\n",
       "  0.043182842433452606,\n",
       "  0.03835205361247063,\n",
       "  0.03360885754227638,\n",
       "  0.03227934241294861,\n",
       "  0.02668149396777153,\n",
       "  0.025407597422599792],\n",
       " 'accuracy': [0.9299333095550537,\n",
       "  0.9743833541870117,\n",
       "  0.9805833101272583,\n",
       "  0.9844333529472351,\n",
       "  0.9864166378974915,\n",
       "  0.9882500171661377,\n",
       "  0.9890999794006348,\n",
       "  0.9896833300590515,\n",
       "  0.9913166761398315,\n",
       "  0.991183340549469],\n",
       " 'val_loss': [0.05219632014632225,\n",
       "  0.03593431040644646,\n",
       "  0.03355320915579796,\n",
       "  0.033884719014167786,\n",
       "  0.031123587861657143,\n",
       "  0.030085314065217972,\n",
       "  0.029071038588881493,\n",
       "  0.028645629063248634,\n",
       "  0.032414380460977554,\n",
       "  0.027202356606721878],\n",
       " 'val_accuracy': [0.9843000173568726,\n",
       "  0.9884999990463257,\n",
       "  0.9886000156402588,\n",
       "  0.9897000193595886,\n",
       "  0.9907000064849854,\n",
       "  0.9902999997138977,\n",
       "  0.9908999800682068,\n",
       "  0.9912999868392944,\n",
       "  0.9908999800682068,\n",
       "  0.991599977016449]}"
      ]
     },
     "execution_count": 17,
     "metadata": {},
     "output_type": "execute_result"
    }
   ],
   "source": [
    "train.history"
   ]
  },
  {
   "cell_type": "markdown",
   "metadata": {},
   "source": [
    "# OUR MODEL IS COMPLETE WITH A VERY HIGH ACCURACY SCORE  "
   ]
  }
 ],
 "metadata": {
  "kernelspec": {
   "display_name": "Python 3",
   "language": "python",
   "name": "python3"
  },
  "language_info": {
   "codemirror_mode": {
    "name": "ipython",
    "version": 3
   },
   "file_extension": ".py",
   "mimetype": "text/x-python",
   "name": "python",
   "nbconvert_exporter": "python",
   "pygments_lexer": "ipython3",
   "version": "3.10.5"
  },
  "orig_nbformat": 4,
  "vscode": {
   "interpreter": {
    "hash": "61ceb1c49787644872bc03ea892a74836f7ed5e196ebee814ca895604c885569"
   }
  }
 },
 "nbformat": 4,
 "nbformat_minor": 2
}
