{
 "cells": [
  {
   "cell_type": "markdown",
   "metadata": {},
   "source": [
    "# FACE MASK DETECTION USING KERAS MODEL"
   ]
  },
  {
   "cell_type": "code",
   "execution_count": 1,
   "metadata": {},
   "outputs": [],
   "source": [
    "# Importing necessary Python Modules:\n",
    "from tensorflow.keras.preprocessing.image import ImageDataGenerator, img_to_array, load_img\n",
    "from tensorflow.keras.applications import MobileNetV2\n",
    "from tensorflow.keras.layers import AveragePooling2D, Dropout, Flatten, Dense, Input\n",
    "from tensorflow.keras.models import Model\n",
    "from tensorflow.keras.optimizers import Adam\n",
    "from tensorflow.keras.applications.mobilenet_v2 import preprocess_input\n",
    "from tensorflow.keras.utils import to_categorical\n",
    "from sklearn.preprocessing import LabelBinarizer\n",
    "from sklearn.model_selection import train_test_split \n",
    "from sklearn.metrics import classification_report\n",
    "\n",
    "from imutils import paths\n",
    "import matplotlib.pyplot as plt\n",
    "import numpy as np\n",
    "import os \n"
   ]
  },
  {
   "cell_type": "code",
   "execution_count": 2,
   "metadata": {},
   "outputs": [],
   "source": [
    "# initialize the initial learning Rate, number of Epochs and Batch size\n",
    "\n",
    "iniLR = 1e-4\n",
    "Epochs = 5\n",
    "BS  = 32"
   ]
  },
  {
   "cell_type": "code",
   "execution_count": 3,
   "metadata": {},
   "outputs": [
    {
     "name": "stdout",
     "output_type": "stream",
     "text": [
      "['Mask', 'Mask', 'Mask', 'Mask', 'Mask', 'Mask', 'Mask', 'Mask', 'Mask', 'Mask']\n"
     ]
    }
   ],
   "source": [
    "# Creating data and LAbels \n",
    "data = []\n",
    "labels = []\n",
    "\n",
    "for category in os.listdir('directory'):\n",
    "    path = os.path.join('directory', category)\n",
    "    for img in os.listdir(path):\n",
    "        img_path = os.path.join(path,img)\n",
    "        image= load_img(img_path, target_size= (224,224))\n",
    "        image = img_to_array(image)\n",
    "        image = preprocess_input(image)\n",
    "\n",
    "        data.append(image)\n",
    "        labels.append(category)\n",
    "\n",
    "print(labels[:10])\n"
   ]
  },
  {
   "cell_type": "code",
   "execution_count": 4,
   "metadata": {},
   "outputs": [],
   "source": [
    "# Perform one hot encoding on the labels \n",
    "lb = LabelBinarizer()\n",
    "labels = lb.fit_transform(labels)\n",
    "labels = to_categorical(labels)\n",
    "\n",
    "data = np.array(data , dtype= 'float32')\n",
    "labels = np.array(labels)"
   ]
  },
  {
   "cell_type": "code",
   "execution_count": 5,
   "metadata": {},
   "outputs": [
    {
     "data": {
      "text/plain": [
       "array([[1., 0.],\n",
       "       [1., 0.],\n",
       "       [1., 0.],\n",
       "       [1., 0.],\n",
       "       [1., 0.],\n",
       "       [1., 0.],\n",
       "       [1., 0.],\n",
       "       [1., 0.],\n",
       "       [1., 0.],\n",
       "       [1., 0.]], dtype=float32)"
      ]
     },
     "execution_count": 5,
     "metadata": {},
     "output_type": "execute_result"
    }
   ],
   "source": [
    "labels [:10 ]\n",
    "\n",
    "# 1 represent = mask \n",
    "# 2 represent = non mask"
   ]
  },
  {
   "cell_type": "code",
   "execution_count": 6,
   "metadata": {},
   "outputs": [],
   "source": [
    "# Creating Train Test dataset:\n",
    "\n",
    "x_train, x_test , y_train , y_test = train_test_split (data, labels, test_size= 0.2, stratify= labels , random_state= 42)"
   ]
  },
  {
   "cell_type": "code",
   "execution_count": 7,
   "metadata": {},
   "outputs": [],
   "source": [
    "# Construct the training image generators for data augmentation \n",
    "aug = ImageDataGenerator(\n",
    "    rotation_range = 20,\n",
    "    zoom_range = 0.15,\n",
    "    width_shift_range = 0.2,\n",
    "    height_shift_range = 0.2,\n",
    "    shear_range = 0.15,\n",
    "    horizontal_flip = True,\n",
    "    fill_mode = 'nearest'\n",
    ")"
   ]
  },
  {
   "cell_type": "code",
   "execution_count": 8,
   "metadata": {},
   "outputs": [
    {
     "name": "stdout",
     "output_type": "stream",
     "text": [
      "WARNING:tensorflow:`input_shape` is undefined or non-square, or `rows` is not in [96, 128, 160, 192, 224]. Weights for input shape (224, 224) will be loaded as the default.\n"
     ]
    }
   ],
   "source": [
    "# load the MObileNetV2 network, ensuring the head FC layer sets are left off:\n",
    "\n",
    "baseModel = MobileNetV2 (weights = 'imagenet', include_top= False, input_tensor= Input(shape=(224,224,3)))\n"
   ]
  },
  {
   "cell_type": "code",
   "execution_count": 9,
   "metadata": {},
   "outputs": [],
   "source": [
    "# Construct the head of the model that will be placed oon the top of the base model: \n",
    "\n",
    "headModel = baseModel.output\n",
    "headModel = AveragePooling2D(pool_size=(7,7))(headModel)\n",
    "headModel = Flatten(name = 'flatten')(headModel)\n",
    "headModel = Dense(128, activation= 'relu')(headModel)\n",
    "headModel = Dropout(0.5) (headModel)\n",
    "headModel = Dense(2, activation= \"softmax\" )(headModel)"
   ]
  },
  {
   "cell_type": "code",
   "execution_count": 10,
   "metadata": {},
   "outputs": [],
   "source": [
    "# Placing the head FC model in the top of base model \n",
    "# THIS WILL BE OUR ACTUAL MODEL WE WILL TRAIN\n",
    "\n",
    "model = Model(inputs = baseModel.input, outputs = headModel)"
   ]
  },
  {
   "cell_type": "code",
   "execution_count": 11,
   "metadata": {},
   "outputs": [],
   "source": [
    "# Loop over all the layers in the base model and freeze them so they will not be updated during the first training process \n",
    "\\\n",
    "for layer in baseModel.layers:\n",
    "    layer.trainable = False"
   ]
  },
  {
   "cell_type": "code",
   "execution_count": 12,
   "metadata": {},
   "outputs": [
    {
     "name": "stdout",
     "output_type": "stream",
     "text": [
      "[INFO] compiling model..\n"
     ]
    },
    {
     "name": "stderr",
     "output_type": "stream",
     "text": [
      "C:\\Users\\skyya\\AppData\\Local\\Packages\\PythonSoftwareFoundation.Python.3.10_qbz5n2kfra8p0\\LocalCache\\local-packages\\Python310\\site-packages\\keras\\optimizer_v2\\adam.py:105: UserWarning: The `lr` argument is deprecated, use `learning_rate` instead.\n",
      "  super(Adam, self).__init__(name, **kwargs)\n"
     ]
    }
   ],
   "source": [
    "# COMPILING our MODEL:\n",
    "\n",
    "print (\"[INFO] compiling model..\")\n",
    "opt = Adam(lr = iniLR, decay = iniLR/Epochs)\n",
    "model.compile(\n",
    "    loss= 'binary_crossentropy',\n",
    "    optimizer = opt,\n",
    "    metrics = ['accuracy']\n",
    ")"
   ]
  },
  {
   "cell_type": "code",
   "execution_count": 13,
   "metadata": {},
   "outputs": [
    {
     "name": "stdout",
     "output_type": "stream",
     "text": [
      "[INFO] Training Head..\n",
      "Epoch 1/5\n",
      "25/25 [==============================] - 34s 1s/step - loss: 0.6794 - accuracy: 0.6490 - val_loss: 0.4364 - val_accuracy: 0.8960\n",
      "Epoch 2/5\n",
      "25/25 [==============================] - 29s 1s/step - loss: 0.4072 - accuracy: 0.8821 - val_loss: 0.2700 - val_accuracy: 0.9604\n",
      "Epoch 3/5\n",
      "25/25 [==============================] - 31s 1s/step - loss: 0.2673 - accuracy: 0.9352 - val_loss: 0.1893 - val_accuracy: 0.9703\n",
      "Epoch 4/5\n",
      "25/25 [==============================] - 30s 1s/step - loss: 0.2008 - accuracy: 0.9560 - val_loss: 0.1410 - val_accuracy: 0.9802\n",
      "Epoch 5/5\n",
      "25/25 [==============================] - 32s 1s/step - loss: 0.1702 - accuracy: 0.9650 - val_loss: 0.1186 - val_accuracy: 0.9752\n"
     ]
    }
   ],
   "source": [
    "# Train the head of the Network: \n",
    "print (\"[INFO] Training Head..\")\n",
    "\n",
    "H = model.fit(\n",
    "    aug.flow(x_train,y_train,batch_size= BS),\n",
    "    steps_per_epoch = len(x_train)//BS,\n",
    "    validation_data = (x_test,y_test),\n",
    "    validation_steps = len(x_test)//BS,\n",
    "    epochs = Epochs\n",
    ")"
   ]
  },
  {
   "cell_type": "code",
   "execution_count": 14,
   "metadata": {},
   "outputs": [
    {
     "name": "stdout",
     "output_type": "stream",
     "text": [
      "[INFO]  evaluating network\n"
     ]
    }
   ],
   "source": [
    "# Make predictions :\n",
    "print (\"[INFO]  evaluating network\")\n",
    "predict = model.predict(x_test,batch_size=BS)\n",
    "\n",
    "# for each of the images in the testing set  we need to find the index of the LAbels  with corresponding Largest Pridicted possibility:\n",
    "\n",
    "predict = np.argmax(predict,axis =1)"
   ]
  },
  {
   "cell_type": "code",
   "execution_count": 15,
   "metadata": {},
   "outputs": [
    {
     "name": "stdout",
     "output_type": "stream",
     "text": [
      "              precision    recall  f1-score   support\n",
      "\n",
      "        Mask       0.95      1.00      0.98       101\n",
      "    Non Mask       1.00      0.95      0.97       101\n",
      "\n",
      "    accuracy                           0.98       202\n",
      "   macro avg       0.98      0.98      0.98       202\n",
      "weighted avg       0.98      0.98      0.98       202\n",
      "\n"
     ]
    }
   ],
   "source": [
    "# Show a nicely formatted classificaation report: \n",
    "print (classification_report(y_test.argmax(axis= 1),predict, target_names= lb.classes_))"
   ]
  },
  {
   "cell_type": "code",
   "execution_count": 16,
   "metadata": {},
   "outputs": [
    {
     "name": "stdout",
     "output_type": "stream",
     "text": [
      "[INFO] saving mask detector model...\n"
     ]
    }
   ],
   "source": [
    "# serialize the model to disk\n",
    "\n",
    "print('[INFO] saving mask detector model...')\n",
    "model.save(\"mask_detector.model\", save_format= 'h5')"
   ]
  },
  {
   "cell_type": "code",
   "execution_count": 17,
   "metadata": {},
   "outputs": [
    {
     "data": {
      "image/png": "[encoded data removed]",
      "text/plain": [
       "<Figure size 432x288 with 1 Axes>"
      ]
     },
     "metadata": {},
     "output_type": "display_data"
    }
   ],
   "source": [
    "# plot the training loss and accuracy:\n",
    "\n",
    "N = Epochs\n",
    "plt.style.use(\"ggplot\")\n",
    "plt.figure()\n",
    "plt.plot(np.arange(0,N), H.history['loss'], label = 'train_loss')\n",
    "plt.plot(np.arange(0,N), H.history['val_loss'], label = 'val_loss')\n",
    "plt.plot(np.arange(0,N), H.history['accuracy'], label ='train_acc')\n",
    "plt.plot(np.arange(0,N), H.history['val_accuracy'], label= 'val_acc')\n",
    "\n",
    "plt.title(\"Training Loss and Accuracy\")\n",
    "plt.xlabel(\"EPOCH #\")\n",
    "plt.ylabel(\"Loss/ Accuracy\")\n",
    "plt.legend(loc = 'lower left')\n",
    "plt.savefig('plot.png')"
   ]
  },
  {
   "cell_type": "code",
   "execution_count": null,
   "metadata": {},
   "outputs": [],
   "source": []
  }
 ],
 "metadata": {
  "kernelspec": {
   "display_name": "Python 3.10.5 64-bit (microsoft store)",
   "language": "python",
   "name": "python3"
  },
  "language_info": {
   "codemirror_mode": {
    "name": "ipython",
    "version": 3
   },
   "file_extension": ".py",
   "mimetype": "text/x-python",
   "name": "python",
   "nbconvert_exporter": "python",
   "pygments_lexer": "ipython3",
   "version": "3.10.5"
  },
  "orig_nbformat": 4,
  "vscode": {
   "interpreter": {
    "hash": "61ceb1c49787644872bc03ea892a74836f7ed5e196ebee814ca895604c885569"
   }
  }
 },
 "nbformat": 4,
 "nbformat_minor": 2
}
